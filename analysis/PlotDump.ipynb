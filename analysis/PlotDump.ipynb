{
 "cells": [
  {
   "cell_type": "code",
   "execution_count": null,
   "metadata": {},
   "outputs": [],
   "source": [
    "%matplotlib inline\n",
    "\n",
    "import matplotlib.pyplot as plt\n",
    "import numpy as np\n",
    "import pandas as pd\n",
    "import json\n",
    "\n",
    "plt.rcParams['figure.figsize'] = [15, 7]\n",
    "#plt.style.use('dark_background')"
   ]
  },
  {
   "cell_type": "code",
   "execution_count": null,
   "metadata": {},
   "outputs": [],
   "source": [
    "filename = \"../aggligator.dump\"\n",
    "\n",
    "data = []\n",
    "n = 0\n",
    "with open(filename) as f:\n",
    "    for line in f:\n",
    "        n+=1\n",
    "        if n % 10 != 0:\n",
    "            continue\n",
    "        try:\n",
    "            data.append(json.loads(line))\n",
    "        except:\n",
    "            break\n",
    "\n",
    "print(f\"Loaded {len(data)} entries\")\n",
    "\n",
    "df = pd.json_normalize(data, max_level=2)"
   ]
  },
  {
   "cell_type": "code",
   "execution_count": null,
   "metadata": {},
   "outputs": [],
   "source": [
    "df.plot(x='runtime', y=['txed_unacked', 'txed_unconsumed', 'txed_unconsumable', 'remote_receive_buffer'], ylim=(-0.1e7, 1.1e7))"
   ]
  },
  {
   "cell_type": "code",
   "execution_count": null,
   "metadata": {},
   "outputs": [],
   "source": [
    "df.plot(x='runtime', y=['link0.total_sent'])\n",
    "df.plot(x='runtime', y=['link1.total_sent'])\n",
    "df.plot(x='runtime', y=['link2.total_sent'])\n",
    "df.plot(x='runtime', y=['link3.total_sent'])"
   ]
  },
  {
   "cell_type": "code",
   "execution_count": null,
   "metadata": {},
   "outputs": [],
   "source": [
    "df.plot(x='runtime', y=['link0.txed_unacked_data', 'link0.txed_unacked_data_limit'])\n",
    "df.plot(x='runtime', y=['link1.txed_unacked_data', 'link1.txed_unacked_data_limit'])\n",
    "df.plot(x='runtime', y=['link2.txed_unacked_data', 'link2.txed_unacked_data_limit'])\n",
    "df.plot(x='runtime', y=['link3.txed_unacked_data', 'link3.txed_unacked_data_limit'])"
   ]
  },
  {
   "cell_type": "code",
   "execution_count": null,
   "metadata": {},
   "outputs": [],
   "source": [
    "df.astype(float).plot(x='runtime', y=['link0.tx_pending'], kind='scatter')\n",
    "df.astype(float).plot(x='runtime', y=['link1.tx_pending'], kind='scatter')\n",
    "df.astype(float).plot(x='runtime', y=['link2.tx_pending'], kind='scatter')\n",
    "df.astype(float).plot(x='runtime', y=['link3.tx_pending'], kind='scatter')"
   ]
  }
 ],
 "metadata": {
  "kernelspec": {
   "display_name": "Python 3.10.6 64-bit",
   "language": "python",
   "name": "python3"
  },
  "language_info": {
   "codemirror_mode": {
    "name": "ipython",
    "version": 3
   },
   "file_extension": ".py",
   "mimetype": "text/x-python",
   "name": "python",
   "nbconvert_exporter": "python",
   "pygments_lexer": "ipython3",
   "version": "3.10.6"
  },
  "orig_nbformat": 4,
  "vscode": {
   "interpreter": {
    "hash": "e7370f93d1d0cde622a1f8e1c04877d8463912d04d973331ad4851f04de6915a"
   }
  }
 },
 "nbformat": 4,
 "nbformat_minor": 2
}
